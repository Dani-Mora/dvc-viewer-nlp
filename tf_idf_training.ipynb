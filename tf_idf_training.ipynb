{
 "cells": [
  {
   "cell_type": "markdown",
   "metadata": {
    "papermill": {
     "duration": 0.017723,
     "end_time": "2020-09-07T10:55:45.366203",
     "exception": false,
     "start_time": "2020-09-07T10:55:45.348480",
     "status": "completed"
    },
    "tags": []
   },
   "source": [
    "# Classification through TF-IDF"
   ]
  },
  {
   "cell_type": "code",
   "execution_count": 1,
   "metadata": {
    "execution": {
     "iopub.execute_input": "2020-09-07T10:55:45.381745Z",
     "iopub.status.busy": "2020-09-07T10:55:45.381324Z",
     "iopub.status.idle": "2020-09-07T10:55:45.899065Z",
     "shell.execute_reply": "2020-09-07T10:55:45.898702Z"
    },
    "papermill": {
     "duration": 0.526963,
     "end_time": "2020-09-07T10:55:45.899168",
     "exception": false,
     "start_time": "2020-09-07T10:55:45.372205",
     "status": "completed"
    },
    "tags": []
   },
   "outputs": [],
   "source": [
    "import os\n",
    "import json\n",
    "\n",
    "from sklearn.feature_extraction.text import TfidfVectorizer\n",
    "from sklearn.model_selection import train_test_split\n",
    "\n",
    "from sklearn.ensemble import GradientBoostingClassifier\n",
    "from sklearn.metrics import f1_score\n",
    "\n",
    "import pandas as pd\n",
    "pd.set_option('display.max_colwidth', None)"
   ]
  },
  {
   "cell_type": "markdown",
   "metadata": {
    "papermill": {
     "duration": 0.005505,
     "end_time": "2020-09-07T10:55:45.910163",
     "exception": false,
     "start_time": "2020-09-07T10:55:45.904658",
     "status": "completed"
    },
    "tags": []
   },
   "source": [
    "## Read data"
   ]
  },
  {
   "cell_type": "code",
   "execution_count": 2,
   "metadata": {
    "execution": {
     "iopub.execute_input": "2020-09-07T10:55:45.923754Z",
     "iopub.status.busy": "2020-09-07T10:55:45.923367Z",
     "iopub.status.idle": "2020-09-07T10:55:45.936513Z",
     "shell.execute_reply": "2020-09-07T10:55:45.936806Z"
    },
    "papermill": {
     "duration": 0.021435,
     "end_time": "2020-09-07T10:55:45.936922",
     "exception": false,
     "start_time": "2020-09-07T10:55:45.915487",
     "status": "completed"
    },
    "tags": []
   },
   "outputs": [],
   "source": [
    "train_df = pd.read_csv(os.path.join('data', 'train.csv'))"
   ]
  },
  {
   "cell_type": "markdown",
   "metadata": {
    "papermill": {
     "duration": 0.0052,
     "end_time": "2020-09-07T10:55:45.947413",
     "exception": false,
     "start_time": "2020-09-07T10:55:45.942213",
     "status": "completed"
    },
    "tags": []
   },
   "source": [
    "## Split training-validation data"
   ]
  },
  {
   "cell_type": "code",
   "execution_count": 3,
   "metadata": {
    "execution": {
     "iopub.execute_input": "2020-09-07T10:55:45.960919Z",
     "iopub.status.busy": "2020-09-07T10:55:45.960498Z",
     "iopub.status.idle": "2020-09-07T10:55:45.965459Z",
     "shell.execute_reply": "2020-09-07T10:55:45.965774Z"
    },
    "papermill": {
     "duration": 0.013296,
     "end_time": "2020-09-07T10:55:45.965886",
     "exception": false,
     "start_time": "2020-09-07T10:55:45.952590",
     "status": "completed"
    },
    "tags": []
   },
   "outputs": [],
   "source": [
    "training_df, validation_df = train_test_split(train_df,\n",
    "                                              test_size=0.15,\n",
    "                                              stratify=train_df.target) "
   ]
  },
  {
   "cell_type": "markdown",
   "metadata": {
    "papermill": {
     "duration": 0.005229,
     "end_time": "2020-09-07T10:55:45.976476",
     "exception": false,
     "start_time": "2020-09-07T10:55:45.971247",
     "status": "completed"
    },
    "tags": []
   },
   "source": [
    "## Create TF-IDF features from message"
   ]
  },
  {
   "cell_type": "code",
   "execution_count": 4,
   "metadata": {
    "execution": {
     "iopub.execute_input": "2020-09-07T10:55:46.009191Z",
     "iopub.status.busy": "2020-09-07T10:55:45.998968Z",
     "iopub.status.idle": "2020-09-07T10:55:46.216752Z",
     "shell.execute_reply": "2020-09-07T10:55:46.216427Z"
    },
    "papermill": {
     "duration": 0.234994,
     "end_time": "2020-09-07T10:55:46.216843",
     "exception": false,
     "start_time": "2020-09-07T10:55:45.981849",
     "status": "completed"
    },
    "tags": []
   },
   "outputs": [],
   "source": [
    "tf_idf = TfidfVectorizer(max_features=5000)\n",
    "tf_idf = tf_idf.fit(train_df.text)\n",
    "\n",
    "training_tf_idf = tf_idf.transform(training_df.text)\n",
    "validation_tf_idf = tf_idf.transform(validation_df.text)"
   ]
  },
  {
   "cell_type": "markdown",
   "metadata": {
    "papermill": {
     "duration": 0.005772,
     "end_time": "2020-09-07T10:55:46.228242",
     "exception": false,
     "start_time": "2020-09-07T10:55:46.222470",
     "status": "completed"
    },
    "tags": []
   },
   "source": [
    "## Training"
   ]
  },
  {
   "cell_type": "code",
   "execution_count": 5,
   "metadata": {
    "execution": {
     "iopub.execute_input": "2020-09-07T10:55:46.242247Z",
     "iopub.status.busy": "2020-09-07T10:55:46.241852Z",
     "iopub.status.idle": "2020-09-07T10:55:47.938323Z",
     "shell.execute_reply": "2020-09-07T10:55:47.937925Z"
    },
    "papermill": {
     "duration": 1.704561,
     "end_time": "2020-09-07T10:55:47.938415",
     "exception": false,
     "start_time": "2020-09-07T10:55:46.233854",
     "status": "completed"
    },
    "tags": []
   },
   "outputs": [
    {
     "data": {
      "text/plain": [
       "GradientBoostingClassifier()"
      ]
     },
     "execution_count": 5,
     "metadata": {},
     "output_type": "execute_result"
    }
   ],
   "source": [
    "model = GradientBoostingClassifier()\n",
    "model.fit(training_tf_idf, training_df.target)"
   ]
  },
  {
   "cell_type": "code",
   "execution_count": 6,
   "metadata": {
    "execution": {
     "iopub.execute_input": "2020-09-07T10:55:47.954703Z",
     "iopub.status.busy": "2020-09-07T10:55:47.954212Z",
     "iopub.status.idle": "2020-09-07T10:55:47.972472Z",
     "shell.execute_reply": "2020-09-07T10:55:47.972094Z"
    },
    "papermill": {
     "duration": 0.028147,
     "end_time": "2020-09-07T10:55:47.972568",
     "exception": false,
     "start_time": "2020-09-07T10:55:47.944421",
     "status": "completed"
    },
    "tags": []
   },
   "outputs": [
    {
     "name": "stdout",
     "output_type": "stream",
     "text": [
      "F1 score for negative class: 0.837496411139822\n",
      "F1 score for positive class: 0.7193852255825484\n",
      "F1 macro score: 0.7784408183611852\n"
     ]
    }
   ],
   "source": [
    "def evaluate(X, y):\n",
    "    f1_0, f1_1 = f1_score(y, model.predict(X), average=None)\n",
    "    print(f'F1 score for negative class: {f1_0}')\n",
    "    print(f'F1 score for positive class: {f1_1}')\n",
    "    f1_macro = f1_score(y, model.predict(X), average='macro')\n",
    "    print(f'F1 macro score: {f1_macro}')\n",
    "    return f1_macro\n",
    "\n",
    "\n",
    "train_f1_macro = evaluate(training_tf_idf, training_df.target)"
   ]
  },
  {
   "cell_type": "code",
   "execution_count": 7,
   "metadata": {
    "execution": {
     "iopub.execute_input": "2020-09-07T10:55:47.987106Z",
     "iopub.status.busy": "2020-09-07T10:55:47.986718Z",
     "iopub.status.idle": "2020-09-07T10:55:47.993440Z",
     "shell.execute_reply": "2020-09-07T10:55:47.993104Z"
    },
    "papermill": {
     "duration": 0.014996,
     "end_time": "2020-09-07T10:55:47.993536",
     "exception": false,
     "start_time": "2020-09-07T10:55:47.978540",
     "status": "completed"
    },
    "tags": []
   },
   "outputs": [
    {
     "name": "stdout",
     "output_type": "stream",
     "text": [
      "F1 score for negative class: 0.7971586424625098\n",
      "F1 score for positive class: 0.6192592592592593\n",
      "F1 macro score: 0.7082089508608845\n"
     ]
    }
   ],
   "source": [
    "val_f1_macro = evaluate(validation_tf_idf, validation_df.target)"
   ]
  },
  {
   "cell_type": "markdown",
   "metadata": {
    "papermill": {
     "duration": 0.006883,
     "end_time": "2020-09-07T10:55:48.006583",
     "exception": false,
     "start_time": "2020-09-07T10:55:47.999700",
     "status": "completed"
    },
    "tags": []
   },
   "source": [
    "## Test evaluation"
   ]
  },
  {
   "cell_type": "code",
   "execution_count": 8,
   "metadata": {
    "execution": {
     "iopub.execute_input": "2020-09-07T10:55:48.022424Z",
     "iopub.status.busy": "2020-09-07T10:55:48.022022Z",
     "iopub.status.idle": "2020-09-07T10:55:48.048220Z",
     "shell.execute_reply": "2020-09-07T10:55:48.047852Z"
    },
    "papermill": {
     "duration": 0.035099,
     "end_time": "2020-09-07T10:55:48.048309",
     "exception": false,
     "start_time": "2020-09-07T10:55:48.013210",
     "status": "completed"
    },
    "tags": []
   },
   "outputs": [
    {
     "name": "stdout",
     "output_type": "stream",
     "text": [
      "F1 score for negative class: 0.7988826815642459\n",
      "F1 score for positive class: 0.6619718309859154\n",
      "F1 macro score: 0.7304272562750806\n"
     ]
    }
   ],
   "source": [
    "test_df = pd.read_csv(os.path.join('data', 'test.csv'))\n",
    "test_f1_macro = evaluate(tf_idf.transform(test_df.text),\n",
    "                         test_df.target)"
   ]
  },
  {
   "cell_type": "markdown",
   "metadata": {
    "papermill": {
     "duration": 0.006433,
     "end_time": "2020-09-07T10:55:48.061699",
     "exception": false,
     "start_time": "2020-09-07T10:55:48.055266",
     "status": "completed"
    },
    "tags": []
   },
   "source": [
    "## Store metrics training metrics"
   ]
  },
  {
   "cell_type": "code",
   "execution_count": 9,
   "metadata": {
    "execution": {
     "iopub.execute_input": "2020-09-07T10:55:48.077977Z",
     "iopub.status.busy": "2020-09-07T10:55:48.077556Z",
     "iopub.status.idle": "2020-09-07T10:55:48.079661Z",
     "shell.execute_reply": "2020-09-07T10:55:48.079972Z"
    },
    "papermill": {
     "duration": 0.011818,
     "end_time": "2020-09-07T10:55:48.080083",
     "exception": false,
     "start_time": "2020-09-07T10:55:48.068265",
     "status": "completed"
    },
    "tags": []
   },
   "outputs": [],
   "source": [
    "with open('train_metrics.json', 'w') as f:\n",
    "    json.dump({'f1_macro': train_f1_macro}, f)\n",
    "\n",
    "with open('val_metrics.json', 'w') as f:\n",
    "    json.dump({'f1_macro': val_f1_macro}, f)\n",
    "    \n",
    "with open('test_metrics.json', 'w') as f:\n",
    "    json.dump({'f1_macro': test_f1_macro}, f)"
   ]
  }
 ],
 "metadata": {
  "kernelspec": {
   "display_name": "Python 3",
   "language": "python",
   "name": "python3"
  },
  "language_info": {
   "codemirror_mode": {
    "name": "ipython",
    "version": 3
   },
   "file_extension": ".py",
   "mimetype": "text/x-python",
   "name": "python",
   "nbconvert_exporter": "python",
   "pygments_lexer": "ipython3",
   "version": "3.7.9"
  },
  "papermill": {
   "duration": 3.917767,
   "end_time": "2020-09-07T10:55:48.494926",
   "environment_variables": {},
   "exception": null,
   "input_path": "tf_idf_training.ipynb",
   "output_path": "tf_idf_training.ipynb",
   "parameters": {},
   "start_time": "2020-09-07T10:55:44.577159",
   "version": "2.1.2"
  }
 },
 "nbformat": 4,
 "nbformat_minor": 4
}