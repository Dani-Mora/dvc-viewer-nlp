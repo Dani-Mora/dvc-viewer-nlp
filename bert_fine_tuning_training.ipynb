{
 "cells": [
  {
   "cell_type": "markdown",
   "metadata": {
    "papermill": {
     "duration": 0.038572,
     "end_time": "2020-09-07T16:46:11.118070",
     "exception": false,
     "start_time": "2020-09-07T16:46:11.079498",
     "status": "completed"
    },
    "tags": []
   },
   "source": [
    "# Classification fine-tuning BERT\n",
    "\n",
    "Inspired from [this other notebook](https://github.com/Dani-Mora/bernie-vs-trump-bert-fine-tuning/blob/master/bert_classification_fine_tuning.ipynb)."
   ]
  },
  {
   "cell_type": "code",
   "execution_count": 1,
   "metadata": {
    "execution": {
     "iopub.execute_input": "2020-09-07T16:46:11.148261Z",
     "iopub.status.busy": "2020-09-07T16:46:11.147673Z",
     "iopub.status.idle": "2020-09-07T16:46:13.500903Z",
     "shell.execute_reply": "2020-09-07T16:46:13.500392Z"
    },
    "papermill": {
     "duration": 2.368397,
     "end_time": "2020-09-07T16:46:13.501074",
     "exception": false,
     "start_time": "2020-09-07T16:46:11.132677",
     "status": "completed"
    },
    "tags": []
   },
   "outputs": [],
   "source": [
    "import os\n",
    "import json\n",
    "from typing import Tuple\n",
    "import yaml\n",
    "\n",
    "from transformers import (\n",
    "    BertTokenizer,\n",
    "    BertForSequenceClassification,\n",
    "    AdamW,\n",
    ")\n",
    "\n",
    "from sklearn.model_selection import train_test_split\n",
    "from sklearn.metrics import f1_score\n",
    "\n",
    "import numpy as np\n",
    "\n",
    "import pandas as pd\n",
    "pd.set_option('display.max_colwidth', None)\n",
    "\n",
    "import seaborn as sns\n",
    "\n",
    "import torch\n",
    "from torch.utils.data import (\n",
    "    TensorDataset,\n",
    "    DataLoader\n",
    ")\n",
    "\n",
    "from ignite.metrics import Fbeta\n",
    "from ignite.engine import (\n",
    "    Events,\n",
    "    Engine,\n",
    ")"
   ]
  },
  {
   "cell_type": "markdown",
   "metadata": {
    "papermill": {
     "duration": 0.013099,
     "end_time": "2020-09-07T16:46:13.528576",
     "exception": false,
     "start_time": "2020-09-07T16:46:13.515477",
     "status": "completed"
    },
    "tags": []
   },
   "source": [
    "## Load BERT tokenizer"
   ]
  },
  {
   "cell_type": "code",
   "execution_count": 2,
   "metadata": {
    "execution": {
     "iopub.execute_input": "2020-09-07T16:46:13.554981Z",
     "iopub.status.busy": "2020-09-07T16:46:13.554552Z",
     "iopub.status.idle": "2020-09-07T16:46:14.208890Z",
     "shell.execute_reply": "2020-09-07T16:46:14.209224Z"
    },
    "papermill": {
     "duration": 0.668999,
     "end_time": "2020-09-07T16:46:14.209355",
     "exception": false,
     "start_time": "2020-09-07T16:46:13.540356",
     "status": "completed"
    },
    "tags": []
   },
   "outputs": [],
   "source": [
    "pretrained_model_name = 'bert-base-cased'\n",
    "tokenizer = BertTokenizer.from_pretrained(pretrained_model_name)"
   ]
  },
  {
   "cell_type": "markdown",
   "metadata": {
    "papermill": {
     "duration": 0.01135,
     "end_time": "2020-09-07T16:46:14.232677",
     "exception": false,
     "start_time": "2020-09-07T16:46:14.221327",
     "status": "completed"
    },
    "tags": []
   },
   "source": [
    "## Read data"
   ]
  },
  {
   "cell_type": "code",
   "execution_count": 3,
   "metadata": {
    "execution": {
     "iopub.execute_input": "2020-09-07T16:46:14.257760Z",
     "iopub.status.busy": "2020-09-07T16:46:14.257347Z",
     "iopub.status.idle": "2020-09-07T16:46:14.272394Z",
     "shell.execute_reply": "2020-09-07T16:46:14.272025Z"
    },
    "papermill": {
     "duration": 0.029156,
     "end_time": "2020-09-07T16:46:14.272503",
     "exception": false,
     "start_time": "2020-09-07T16:46:14.243347",
     "status": "completed"
    },
    "tags": []
   },
   "outputs": [],
   "source": [
    "train_df = pd.read_csv(os.path.join('data', 'train.csv'))"
   ]
  },
  {
   "cell_type": "markdown",
   "metadata": {
    "papermill": {
     "duration": 0.010722,
     "end_time": "2020-09-07T16:46:14.294600",
     "exception": false,
     "start_time": "2020-09-07T16:46:14.283878",
     "status": "completed"
    },
    "tags": []
   },
   "source": [
    "## Visualize token length"
   ]
  },
  {
   "cell_type": "code",
   "execution_count": 4,
   "metadata": {
    "execution": {
     "iopub.execute_input": "2020-09-07T16:46:14.320664Z",
     "iopub.status.busy": "2020-09-07T16:46:14.320154Z",
     "iopub.status.idle": "2020-09-07T16:46:16.023307Z",
     "shell.execute_reply": "2020-09-07T16:46:16.022938Z"
    },
    "papermill": {
     "duration": 1.71778,
     "end_time": "2020-09-07T16:46:16.023397",
     "exception": false,
     "start_time": "2020-09-07T16:46:14.305617",
     "status": "completed"
    },
    "tags": []
   },
   "outputs": [],
   "source": [
    "positive_token_ids = train_df[train_df.target == 1].text.apply(\n",
    "    lambda x: tokenizer.encode(str(x), add_special_tokens=False)\n",
    ")\n",
    "\n",
    "negative_token_ids = train_df[train_df.target == 0].text.apply(\n",
    "    lambda x: tokenizer.encode(str(x), add_special_tokens=False)\n",
    ")"
   ]
  },
  {
   "cell_type": "markdown",
   "metadata": {
    "papermill": {
     "duration": 0.011243,
     "end_time": "2020-09-07T16:46:16.045138",
     "exception": false,
     "start_time": "2020-09-07T16:46:16.033895",
     "status": "completed"
    },
    "tags": []
   },
   "source": [
    "Plot both distributions."
   ]
  },
  {
   "cell_type": "code",
   "execution_count": 5,
   "metadata": {
    "execution": {
     "iopub.execute_input": "2020-09-07T16:46:16.081183Z",
     "iopub.status.busy": "2020-09-07T16:46:16.080029Z",
     "iopub.status.idle": "2020-09-07T16:46:16.310801Z",
     "shell.execute_reply": "2020-09-07T16:46:16.310495Z"
    },
    "papermill": {
     "duration": 0.25492,
     "end_time": "2020-09-07T16:46:16.310895",
     "exception": false,
     "start_time": "2020-09-07T16:46:16.055975",
     "status": "completed"
    },
    "tags": []
   },
   "outputs": [
    {
     "data": {
      "text/plain": [
       "<matplotlib.legend.Legend at 0x7fa7ea82abd0>"
      ]
     },
     "execution_count": 5,
     "metadata": {},
     "output_type": "execute_result"
    },
    {
     "data": {
      "image/png": "[encoded data removed]",
      "text/plain": [
       "<Figure size 432x288 with 1 Axes>"
      ]
     },
     "metadata": {
      "needs_background": "light"
     },
     "output_type": "display_data"
    }
   ],
   "source": [
    "ax = sns.distplot(\n",
    "    list(map(len, positive_token_ids)),\n",
    "         hist=True,\n",
    "         kde=True,\n",
    "         norm_hist=True,\n",
    "         kde_kws={'bw': 5},\n",
    "         label='Positive',\n",
    "         axlabel='Number of tokens in sentences',\n",
    ")\n",
    "\n",
    "sns.distplot(\n",
    "    list(map(len, negative_token_ids)),\n",
    "         hist=True,\n",
    "         kde=True,\n",
    "         norm_hist=True,\n",
    "         ax=ax,\n",
    "         label='Negative',\n",
    "         kde_kws={'bw': 5},\n",
    ")\n",
    "\n",
    "ax.legend()"
   ]
  },
  {
   "cell_type": "markdown",
   "metadata": {
    "papermill": {
     "duration": 0.011681,
     "end_time": "2020-09-07T16:46:16.335010",
     "exception": false,
     "start_time": "2020-09-07T16:46:16.323329",
     "status": "completed"
    },
    "tags": []
   },
   "source": [
    "We see positive instances tend to be larger. Let's set the maximum sentence length to 60 characters."
   ]
  },
  {
   "cell_type": "code",
   "execution_count": 6,
   "metadata": {
    "execution": {
     "iopub.execute_input": "2020-09-07T16:46:16.361890Z",
     "iopub.status.busy": "2020-09-07T16:46:16.361526Z",
     "iopub.status.idle": "2020-09-07T16:46:16.363332Z",
     "shell.execute_reply": "2020-09-07T16:46:16.362992Z"
    },
    "papermill": {
     "duration": 0.016797,
     "end_time": "2020-09-07T16:46:16.363432",
     "exception": false,
     "start_time": "2020-09-07T16:46:16.346635",
     "status": "completed"
    },
    "tags": []
   },
   "outputs": [],
   "source": [
    "max_token_num = 60"
   ]
  },
  {
   "cell_type": "markdown",
   "metadata": {
    "papermill": {
     "duration": 0.012277,
     "end_time": "2020-09-07T16:46:16.388048",
     "exception": false,
     "start_time": "2020-09-07T16:46:16.375771",
     "status": "completed"
    },
    "tags": []
   },
   "source": [
    "## Load pre-trained model"
   ]
  },
  {
   "cell_type": "code",
   "execution_count": 7,
   "metadata": {
    "execution": {
     "iopub.execute_input": "2020-09-07T16:46:16.436413Z",
     "iopub.status.busy": "2020-09-07T16:46:16.436001Z",
     "iopub.status.idle": "2020-09-07T16:46:22.010713Z",
     "shell.execute_reply": "2020-09-07T16:46:22.010108Z"
    },
    "papermill": {
     "duration": 5.611361,
     "end_time": "2020-09-07T16:46:22.010851",
     "exception": false,
     "start_time": "2020-09-07T16:46:16.399490",
     "status": "completed"
    },
    "tags": []
   },
   "outputs": [
    {
     "name": "stderr",
     "output_type": "stream",
     "text": [
      "Some weights of the model checkpoint at bert-base-cased were not used when initializing BertForSequenceClassification: ['cls.predictions.bias', 'cls.predictions.transform.dense.weight', 'cls.predictions.transform.dense.bias', 'cls.predictions.decoder.weight', 'cls.seq_relationship.weight', 'cls.seq_relationship.bias', 'cls.predictions.transform.LayerNorm.weight', 'cls.predictions.transform.LayerNorm.bias']\n",
      "- This IS expected if you are initializing BertForSequenceClassification from the checkpoint of a model trained on another task or with another architecture (e.g. initializing a BertForSequenceClassification model from a BertForPretraining model).\n",
      "- This IS NOT expected if you are initializing BertForSequenceClassification from the checkpoint of a model that you expect to be exactly identical (initializing a BertForSequenceClassification model from a BertForSequenceClassification model).\n"
     ]
    },
    {
     "name": "stderr",
     "output_type": "stream",
     "text": [
      "Some weights of BertForSequenceClassification were not initialized from the model checkpoint at bert-base-cased and are newly initialized: ['classifier.weight', 'classifier.bias']\n",
      "You should probably TRAIN this model on a down-stream task to be able to use it for predictions and inference.\n"
     ]
    }
   ],
   "source": [
    "device = 'cuda' if torch.cuda.is_available() else 'cpu'\n",
    "\n",
    "model = BertForSequenceClassification.from_pretrained(\n",
    "    pretrained_model_name,\n",
    "    num_labels=2,\n",
    "    output_attentions=False,\n",
    "    output_hidden_states=False).to(device)"
   ]
  },
  {
   "cell_type": "markdown",
   "metadata": {
    "papermill": {
     "duration": 0.016527,
     "end_time": "2020-09-07T16:46:22.046418",
     "exception": false,
     "start_time": "2020-09-07T16:46:22.029891",
     "status": "completed"
    },
    "tags": []
   },
   "source": [
    "## Split training-validation data"
   ]
  },
  {
   "cell_type": "code",
   "execution_count": 8,
   "metadata": {
    "execution": {
     "iopub.execute_input": "2020-09-07T16:46:22.078524Z",
     "iopub.status.busy": "2020-09-07T16:46:22.078097Z",
     "iopub.status.idle": "2020-09-07T16:46:22.084951Z",
     "shell.execute_reply": "2020-09-07T16:46:22.085851Z"
    },
    "papermill": {
     "duration": 0.024877,
     "end_time": "2020-09-07T16:46:22.086147",
     "exception": false,
     "start_time": "2020-09-07T16:46:22.061270",
     "status": "completed"
    },
    "tags": []
   },
   "outputs": [],
   "source": [
    "training_df, validation_df = train_test_split(train_df,\n",
    "                                              test_size=0.15,\n",
    "                                              stratify=train_df.target)"
   ]
  },
  {
   "cell_type": "markdown",
   "metadata": {
    "papermill": {
     "duration": 0.015034,
     "end_time": "2020-09-07T16:46:22.133569",
     "exception": false,
     "start_time": "2020-09-07T16:46:22.118535",
     "status": "completed"
    },
    "tags": []
   },
   "source": [
    "## Load datasets using BERT output"
   ]
  },
  {
   "cell_type": "code",
   "execution_count": 9,
   "metadata": {
    "execution": {
     "iopub.execute_input": "2020-09-07T16:46:22.175658Z",
     "iopub.status.busy": "2020-09-07T16:46:22.170059Z",
     "iopub.status.idle": "2020-09-07T16:46:24.062151Z",
     "shell.execute_reply": "2020-09-07T16:46:24.061811Z"
    },
    "papermill": {
     "duration": 1.915732,
     "end_time": "2020-09-07T16:46:24.062245",
     "exception": false,
     "start_time": "2020-09-07T16:46:22.146513",
     "status": "completed"
    },
    "tags": []
   },
   "outputs": [],
   "source": [
    "def encode_sentence(text: str, max_length: int) -> Tuple[np.ndarray, np.ndarray]:\n",
    "    encoded_dict = tokenizer.encode_plus(\n",
    "        text,\n",
    "        add_special_tokens=True,\n",
    "        max_length=max_length,\n",
    "        truncation=True,\n",
    "        padding='max_length',\n",
    "        return_attention_mask = True\n",
    "    )\n",
    "    return encoded_dict['input_ids'], encoded_dict['attention_mask']\n",
    "\n",
    "\n",
    "def process_data(df: pd.DataFrame,\n",
    "                 max_length: int) -> Tuple[np.ndarray,\n",
    "                                           np.ndarray,\n",
    "                                           np.ndarray]:\n",
    "    \"\"\" Map sentences in DataFrame into proper model inputs\n",
    "    \n",
    "    We are extracting, for each sentence:\n",
    "    \n",
    "        - List of token identifiers (including special tokens)\n",
    "        - Input attention masks (which prevent focusing on padding tokens)\n",
    "        - Sentence label\n",
    "        \n",
    "    Number of tokens are padded to the maximum provided (special\n",
    "    tokens are considered for computing the length of the sentence).\n",
    "    \n",
    "    \"\"\"\n",
    "    encoded_dicts = df.text.apply(\n",
    "        lambda x: encode_sentence(x, max_length=max_length)\n",
    "    )\n",
    "    token_ids, attention_masks = zip(*encoded_dicts)\n",
    "    return token_ids, attention_masks, df.target.values\n",
    "\n",
    "\n",
    "def build_dataset(df: pd.DataFrame,\n",
    "                  max_length: int) -> torch.utils.data.Dataset:\n",
    "    token_ids, attention_masks, labels = process_data(df,\n",
    "                                                      max_length=max_length)\n",
    "    return TensorDataset(torch.Tensor(token_ids).to(torch.long),\n",
    "                         torch.Tensor(attention_masks),\n",
    "                         torch.Tensor(labels).to(torch.long))\n",
    "\n",
    "# As dataset is small, we can fit it on memory\n",
    "train_dataset = build_dataset(training_df, max_length=max_token_num)\n",
    "val_dataset = build_dataset(validation_df, max_length=max_token_num)"
   ]
  },
  {
   "cell_type": "markdown",
   "metadata": {
    "papermill": {
     "duration": 0.012201,
     "end_time": "2020-09-07T16:46:24.086965",
     "exception": false,
     "start_time": "2020-09-07T16:46:24.074764",
     "status": "completed"
    },
    "tags": []
   },
   "source": [
    "## Load experiment parameters"
   ]
  },
  {
   "cell_type": "code",
   "execution_count": 10,
   "metadata": {
    "execution": {
     "iopub.execute_input": "2020-09-07T16:46:24.114252Z",
     "iopub.status.busy": "2020-09-07T16:46:24.113879Z",
     "iopub.status.idle": "2020-09-07T16:46:24.131520Z",
     "shell.execute_reply": "2020-09-07T16:46:24.131813Z"
    },
    "papermill": {
     "duration": 0.032667,
     "end_time": "2020-09-07T16:46:24.131930",
     "exception": false,
     "start_time": "2020-09-07T16:46:24.099263",
     "status": "completed"
    },
    "tags": []
   },
   "outputs": [],
   "source": [
    "with open(\"params.yaml\", 'r') as fd:\n",
    "    params = yaml.safe_load(fd)"
   ]
  },
  {
   "cell_type": "markdown",
   "metadata": {
    "papermill": {
     "duration": 0.014429,
     "end_time": "2020-09-07T16:46:24.159530",
     "exception": false,
     "start_time": "2020-09-07T16:46:24.145101",
     "status": "completed"
    },
    "tags": []
   },
   "source": [
    "## Training"
   ]
  },
  {
   "cell_type": "code",
   "execution_count": 11,
   "metadata": {
    "execution": {
     "iopub.execute_input": "2020-09-07T16:46:24.195109Z",
     "iopub.status.busy": "2020-09-07T16:46:24.194700Z",
     "iopub.status.idle": "2020-09-07T16:46:24.197144Z",
     "shell.execute_reply": "2020-09-07T16:46:24.197630Z"
    },
    "papermill": {
     "duration": 0.024394,
     "end_time": "2020-09-07T16:46:24.197744",
     "exception": false,
     "start_time": "2020-09-07T16:46:24.173350",
     "status": "completed"
    },
    "tags": []
   },
   "outputs": [],
   "source": [
    "batch_size = params['batch_size']\n",
    "optimizer = AdamW(model.parameters(), lr = params['lr'])  # integrated LR decay\n",
    "n_epochs = params['n_epochs']\n",
    "\n",
    "train_loader = DataLoader(train_dataset, shuffle=True, batch_size=batch_size)\n",
    "val_loader = DataLoader(val_dataset, shuffle=True, batch_size=batch_size)"
   ]
  },
  {
   "cell_type": "markdown",
   "metadata": {
    "papermill": {
     "duration": 0.012282,
     "end_time": "2020-09-07T16:46:24.223181",
     "exception": false,
     "start_time": "2020-09-07T16:46:24.210899",
     "status": "completed"
    },
    "tags": []
   },
   "source": [
    "Define train step."
   ]
  },
  {
   "cell_type": "code",
   "execution_count": 12,
   "metadata": {
    "execution": {
     "iopub.execute_input": "2020-09-07T16:46:24.257098Z",
     "iopub.status.busy": "2020-09-07T16:46:24.256704Z",
     "iopub.status.idle": "2020-09-07T16:46:24.259484Z",
     "shell.execute_reply": "2020-09-07T16:46:24.259088Z"
    },
    "papermill": {
     "duration": 0.0205,
     "end_time": "2020-09-07T16:46:24.259574",
     "exception": false,
     "start_time": "2020-09-07T16:46:24.239074",
     "status": "completed"
    },
    "tags": []
   },
   "outputs": [],
   "source": [
    "def train_step(engine, batch):\n",
    "\n",
    "    model.train()\n",
    "    \n",
    "    optimizer.zero_grad()\n",
    "    \n",
    "    batch_token_ids = batch[0].to(device)\n",
    "    batch_att_masks = batch[1].to(device)\n",
    "    batch_labels = batch[2].to(device)\n",
    "    \n",
    "    loss, _ = model(batch_token_ids,\n",
    "                    attention_mask=batch_att_masks, \n",
    "                    labels=batch_labels)\n",
    "    \n",
    "    loss.backward()\n",
    "    optimizer.step()\n",
    "    \n",
    "    return loss.item()"
   ]
  },
  {
   "cell_type": "markdown",
   "metadata": {
    "papermill": {
     "duration": 0.012558,
     "end_time": "2020-09-07T16:46:24.284770",
     "exception": false,
     "start_time": "2020-09-07T16:46:24.272212",
     "status": "completed"
    },
    "tags": []
   },
   "source": [
    "Define validation step."
   ]
  },
  {
   "cell_type": "code",
   "execution_count": 13,
   "metadata": {
    "execution": {
     "iopub.execute_input": "2020-09-07T16:46:24.313808Z",
     "iopub.status.busy": "2020-09-07T16:46:24.313441Z",
     "iopub.status.idle": "2020-09-07T16:46:24.315336Z",
     "shell.execute_reply": "2020-09-07T16:46:24.314909Z"
    },
    "papermill": {
     "duration": 0.017714,
     "end_time": "2020-09-07T16:46:24.315426",
     "exception": false,
     "start_time": "2020-09-07T16:46:24.297712",
     "status": "completed"
    },
    "tags": []
   },
   "outputs": [],
   "source": [
    "def validation_step(engine, batch):\n",
    "    \n",
    "    model.eval()\n",
    "    \n",
    "    with torch.no_grad():\n",
    "        \n",
    "        batch_token_ids = batch[0].to(device)\n",
    "        batch_att_masks = batch[1].to(device)\n",
    "        batch_labels = batch[2].to(device)\n",
    "\n",
    "        batch_logits = model(batch_token_ids, attention_mask=batch_att_masks)\n",
    "        return batch_logits[0], batch_labels"
   ]
  },
  {
   "cell_type": "markdown",
   "metadata": {
    "papermill": {
     "duration": 0.012581,
     "end_time": "2020-09-07T16:46:24.341185",
     "exception": false,
     "start_time": "2020-09-07T16:46:24.328604",
     "status": "completed"
    },
    "tags": []
   },
   "source": [
    "Create training and validation engines."
   ]
  },
  {
   "cell_type": "code",
   "execution_count": 14,
   "metadata": {
    "execution": {
     "iopub.execute_input": "2020-09-07T16:46:24.370498Z",
     "iopub.status.busy": "2020-09-07T16:46:24.370135Z",
     "iopub.status.idle": "2020-09-07T16:46:24.372036Z",
     "shell.execute_reply": "2020-09-07T16:46:24.371670Z"
    },
    "papermill": {
     "duration": 0.018748,
     "end_time": "2020-09-07T16:46:24.372125",
     "exception": false,
     "start_time": "2020-09-07T16:46:24.353377",
     "status": "completed"
    },
    "tags": []
   },
   "outputs": [],
   "source": [
    "trainer = Engine(train_step)\n",
    "\n",
    "evaluator = Engine(validation_step)\n",
    "fbeta = Fbeta(beta=1.0, average=True)\n",
    "fbeta.attach(evaluator, 'f1_score')"
   ]
  },
  {
   "cell_type": "markdown",
   "metadata": {
    "papermill": {
     "duration": 0.01271,
     "end_time": "2020-09-07T16:46:24.397657",
     "exception": false,
     "start_time": "2020-09-07T16:46:24.384947",
     "status": "completed"
    },
    "tags": []
   },
   "source": [
    "Define callbacks."
   ]
  },
  {
   "cell_type": "code",
   "execution_count": 15,
   "metadata": {
    "execution": {
     "iopub.execute_input": "2020-09-07T16:46:24.428250Z",
     "iopub.status.busy": "2020-09-07T16:46:24.427852Z",
     "iopub.status.idle": "2020-09-07T16:46:24.429720Z",
     "shell.execute_reply": "2020-09-07T16:46:24.429342Z"
    },
    "papermill": {
     "duration": 0.019488,
     "end_time": "2020-09-07T16:46:24.429813",
     "exception": false,
     "start_time": "2020-09-07T16:46:24.410325",
     "status": "completed"
    },
    "tags": []
   },
   "outputs": [],
   "source": [
    "@trainer.on(Events.ITERATION_COMPLETED(every=15))\n",
    "def log_training_loss(trainer):\n",
    "    iteration = trainer.state.iteration\n",
    "    n_iterations = trainer.state.epoch_length\n",
    "    print(\n",
    "        f'Epoch[{trainer.state.epoch}/{trainer.state.max_epochs}] '\n",
    "        f'Iteration[{(iteration - 1) % n_iterations}/{n_iterations}] '\n",
    "        f'Loss: {trainer.state.output:.2f}'\n",
    "    )\n",
    "\n",
    "@trainer.on(Events.EPOCH_COMPLETED)\n",
    "def log_training_results(trainer):\n",
    "    evaluator.run(train_loader)\n",
    "    metrics = evaluator.state.metrics\n",
    "    print(f'Training Results - Epoch: {trainer.state.epoch}, '\n",
    "          f'F1 score: {metrics[\"f1_score\"]:.2f}')\n",
    "\n",
    "@trainer.on(Events.EPOCH_COMPLETED)\n",
    "def log_validation_results(trainer):\n",
    "    evaluator.run(val_loader)\n",
    "    metrics = evaluator.state.metrics\n",
    "    print(f'Validation Results - Epoch: {trainer.state.epoch}, '\n",
    "          f'F1 score: {metrics[\"f1_score\"]:.2f}')"
   ]
  },
  {
   "cell_type": "markdown",
   "metadata": {
    "papermill": {
     "duration": 0.012455,
     "end_time": "2020-09-07T16:46:24.455416",
     "exception": false,
     "start_time": "2020-09-07T16:46:24.442961",
     "status": "completed"
    },
    "tags": []
   },
   "source": [
    "Start training."
   ]
  },
  {
   "cell_type": "code",
   "execution_count": 16,
   "metadata": {
    "execution": {
     "iopub.execute_input": "2020-09-07T16:46:24.484294Z",
     "iopub.status.busy": "2020-09-07T16:46:24.483934Z",
     "iopub.status.idle": "2020-09-07T16:54:02.249242Z",
     "shell.execute_reply": "2020-09-07T16:54:02.248872Z"
    },
    "papermill": {
     "duration": 457.780862,
     "end_time": "2020-09-07T16:54:02.249332",
     "exception": false,
     "start_time": "2020-09-07T16:46:24.468470",
     "status": "completed"
    },
    "tags": []
   },
   "outputs": [
    {
     "name": "stdout",
     "output_type": "stream",
     "text": [
      "Epoch[1/5] Iteration[14/86] Loss: 0.74\n"
     ]
    },
    {
     "name": "stdout",
     "output_type": "stream",
     "text": [
      "Epoch[1/5] Iteration[29/86] Loss: 0.59\n"
     ]
    },
    {
     "name": "stdout",
     "output_type": "stream",
     "text": [
      "Epoch[1/5] Iteration[44/86] Loss: 0.64\n"
     ]
    },
    {
     "name": "stdout",
     "output_type": "stream",
     "text": [
      "Epoch[1/5] Iteration[59/86] Loss: 0.48\n"
     ]
    },
    {
     "name": "stdout",
     "output_type": "stream",
     "text": [
      "Epoch[1/5] Iteration[74/86] Loss: 0.47\n"
     ]
    },
    {
     "name": "stdout",
     "output_type": "stream",
     "text": [
      "Training Results - Epoch: 1, F1 score: 0.81\n"
     ]
    },
    {
     "name": "stdout",
     "output_type": "stream",
     "text": [
      "Validation Results - Epoch: 1, F1 score: 0.79\n"
     ]
    },
    {
     "name": "stdout",
     "output_type": "stream",
     "text": [
      "Epoch[2/5] Iteration[3/86] Loss: 0.40\n"
     ]
    },
    {
     "name": "stdout",
     "output_type": "stream",
     "text": [
      "Epoch[2/5] Iteration[18/86] Loss: 0.48\n"
     ]
    },
    {
     "name": "stdout",
     "output_type": "stream",
     "text": [
      "Epoch[2/5] Iteration[33/86] Loss: 0.41\n"
     ]
    },
    {
     "name": "stdout",
     "output_type": "stream",
     "text": [
      "Epoch[2/5] Iteration[48/86] Loss: 0.39\n"
     ]
    },
    {
     "name": "stdout",
     "output_type": "stream",
     "text": [
      "Epoch[2/5] Iteration[63/86] Loss: 0.36\n"
     ]
    },
    {
     "name": "stdout",
     "output_type": "stream",
     "text": [
      "Epoch[2/5] Iteration[78/86] Loss: 0.52\n"
     ]
    },
    {
     "name": "stdout",
     "output_type": "stream",
     "text": [
      "Training Results - Epoch: 2, F1 score: 0.87\n"
     ]
    },
    {
     "name": "stdout",
     "output_type": "stream",
     "text": [
      "Validation Results - Epoch: 2, F1 score: 0.80\n"
     ]
    },
    {
     "name": "stdout",
     "output_type": "stream",
     "text": [
      "Epoch[3/5] Iteration[7/86] Loss: 0.43\n"
     ]
    },
    {
     "name": "stdout",
     "output_type": "stream",
     "text": [
      "Epoch[3/5] Iteration[22/86] Loss: 0.34\n"
     ]
    },
    {
     "name": "stdout",
     "output_type": "stream",
     "text": [
      "Epoch[3/5] Iteration[37/86] Loss: 0.39\n"
     ]
    },
    {
     "name": "stdout",
     "output_type": "stream",
     "text": [
      "Epoch[3/5] Iteration[52/86] Loss: 0.56\n"
     ]
    },
    {
     "name": "stdout",
     "output_type": "stream",
     "text": [
      "Epoch[3/5] Iteration[67/86] Loss: 0.33\n"
     ]
    },
    {
     "name": "stdout",
     "output_type": "stream",
     "text": [
      "Epoch[3/5] Iteration[82/86] Loss: 0.18\n"
     ]
    },
    {
     "name": "stdout",
     "output_type": "stream",
     "text": [
      "Training Results - Epoch: 3, F1 score: 0.91\n"
     ]
    },
    {
     "name": "stdout",
     "output_type": "stream",
     "text": [
      "Validation Results - Epoch: 3, F1 score: 0.82\n"
     ]
    },
    {
     "name": "stdout",
     "output_type": "stream",
     "text": [
      "Epoch[4/5] Iteration[11/86] Loss: 0.28\n"
     ]
    },
    {
     "name": "stdout",
     "output_type": "stream",
     "text": [
      "Epoch[4/5] Iteration[26/86] Loss: 0.32\n"
     ]
    },
    {
     "name": "stdout",
     "output_type": "stream",
     "text": [
      "Epoch[4/5] Iteration[41/86] Loss: 0.27\n"
     ]
    },
    {
     "name": "stdout",
     "output_type": "stream",
     "text": [
      "Epoch[4/5] Iteration[56/86] Loss: 0.27\n"
     ]
    },
    {
     "name": "stdout",
     "output_type": "stream",
     "text": [
      "Epoch[4/5] Iteration[71/86] Loss: 0.32\n"
     ]
    },
    {
     "name": "stdout",
     "output_type": "stream",
     "text": [
      "Training Results - Epoch: 4, F1 score: 0.94\n"
     ]
    },
    {
     "name": "stdout",
     "output_type": "stream",
     "text": [
      "Validation Results - Epoch: 4, F1 score: 0.82\n"
     ]
    },
    {
     "name": "stdout",
     "output_type": "stream",
     "text": [
      "Epoch[5/5] Iteration[0/86] Loss: 0.28\n"
     ]
    },
    {
     "name": "stdout",
     "output_type": "stream",
     "text": [
      "Epoch[5/5] Iteration[15/86] Loss: 0.43\n"
     ]
    },
    {
     "name": "stdout",
     "output_type": "stream",
     "text": [
      "Epoch[5/5] Iteration[30/86] Loss: 0.27\n"
     ]
    },
    {
     "name": "stdout",
     "output_type": "stream",
     "text": [
      "Epoch[5/5] Iteration[45/86] Loss: 0.15\n"
     ]
    },
    {
     "name": "stdout",
     "output_type": "stream",
     "text": [
      "Epoch[5/5] Iteration[60/86] Loss: 0.33\n"
     ]
    },
    {
     "name": "stdout",
     "output_type": "stream",
     "text": [
      "Epoch[5/5] Iteration[75/86] Loss: 0.23\n"
     ]
    },
    {
     "name": "stdout",
     "output_type": "stream",
     "text": [
      "Training Results - Epoch: 5, F1 score: 0.95\n"
     ]
    },
    {
     "name": "stdout",
     "output_type": "stream",
     "text": [
      "Validation Results - Epoch: 5, F1 score: 0.81\n"
     ]
    }
   ],
   "source": [
    "history = trainer.run(train_loader, max_epochs=n_epochs);"
   ]
  },
  {
   "cell_type": "code",
   "execution_count": 17,
   "metadata": {
    "execution": {
     "iopub.execute_input": "2020-09-07T16:54:02.289270Z",
     "iopub.status.busy": "2020-09-07T16:54:02.288880Z",
     "iopub.status.idle": "2020-09-07T16:54:26.733874Z",
     "shell.execute_reply": "2020-09-07T16:54:26.733460Z"
    },
    "papermill": {
     "duration": 24.465967,
     "end_time": "2020-09-07T16:54:26.733963",
     "exception": false,
     "start_time": "2020-09-07T16:54:02.267996",
     "status": "completed"
    },
    "tags": []
   },
   "outputs": [],
   "source": [
    "evaluator.run(train_loader)\n",
    "train_metrics = evaluator.state.metrics.copy()\n",
    "evaluator.run(val_loader)\n",
    "val_metrics = evaluator.state.metrics.copy()"
   ]
  },
  {
   "cell_type": "markdown",
   "metadata": {
    "papermill": {
     "duration": 0.01837,
     "end_time": "2020-09-07T16:54:26.771108",
     "exception": false,
     "start_time": "2020-09-07T16:54:26.752738",
     "status": "completed"
    },
    "tags": []
   },
   "source": [
    "## Evaluate test"
   ]
  },
  {
   "cell_type": "code",
   "execution_count": 18,
   "metadata": {
    "execution": {
     "iopub.execute_input": "2020-09-07T16:54:26.812054Z",
     "iopub.status.busy": "2020-09-07T16:54:26.811677Z",
     "iopub.status.idle": "2020-09-07T16:54:31.442046Z",
     "shell.execute_reply": "2020-09-07T16:54:31.441705Z"
    },
    "papermill": {
     "duration": 4.652201,
     "end_time": "2020-09-07T16:54:31.442135",
     "exception": false,
     "start_time": "2020-09-07T16:54:26.789934",
     "status": "completed"
    },
    "tags": []
   },
   "outputs": [],
   "source": [
    "test_df = pd.read_csv(os.path.join('data', 'test.csv'))\n",
    "test_dataset = build_dataset(test_df, max_length=max_token_num)\n",
    "test_loader = DataLoader(test_dataset, shuffle=True, batch_size=batch_size)\n",
    "evaluator.run(test_loader)\n",
    "test_metrics = evaluator.state.metrics.copy()"
   ]
  },
  {
   "cell_type": "markdown",
   "metadata": {
    "papermill": {
     "duration": 0.01905,
     "end_time": "2020-09-07T16:54:31.480258",
     "exception": false,
     "start_time": "2020-09-07T16:54:31.461208",
     "status": "completed"
    },
    "tags": []
   },
   "source": [
    "## Store metrics training metrics"
   ]
  },
  {
   "cell_type": "code",
   "execution_count": 19,
   "metadata": {
    "execution": {
     "iopub.execute_input": "2020-09-07T16:54:31.521518Z",
     "iopub.status.busy": "2020-09-07T16:54:31.521123Z",
     "iopub.status.idle": "2020-09-07T16:54:31.523571Z",
     "shell.execute_reply": "2020-09-07T16:54:31.523239Z"
    },
    "papermill": {
     "duration": 0.02417,
     "end_time": "2020-09-07T16:54:31.523658",
     "exception": false,
     "start_time": "2020-09-07T16:54:31.499488",
     "status": "completed"
    },
    "tags": []
   },
   "outputs": [],
   "source": [
    "with open('train_metrics.json', 'w') as f:\n",
    "    json.dump({'f1_macro': train_metrics['f1_score']}, f)\n",
    "\n",
    "with open('val_metrics.json', 'w') as f:\n",
    "    json.dump({'f1_macro': val_metrics['f1_score']}, f)\n",
    "    \n",
    "with open('test_metrics.json', 'w') as f:\n",
    "    json.dump({'f1_macro': test_metrics['f1_score']}, f)"
   ]
  }
 ],
 "metadata": {
  "kernelspec": {
   "display_name": "Python 3",
   "language": "python",
   "name": "python3"
  },
  "language_info": {
   "codemirror_mode": {
    "name": "ipython",
    "version": 3
   },
   "file_extension": ".py",
   "mimetype": "text/x-python",
   "name": "python",
   "nbconvert_exporter": "python",
   "pygments_lexer": "ipython3",
   "version": "3.7.9"
  },
  "papermill": {
   "duration": 502.074313,
   "end_time": "2020-09-07T16:54:32.349165",
   "environment_variables": {},
   "exception": null,
   "input_path": "bert_fine_tuning_training.ipynb",
   "output_path": "bert_fine_tuning_training.ipynb",
   "parameters": {},
   "start_time": "2020-09-07T16:46:10.274852",
   "version": "2.1.2"
  }
 },
 "nbformat": 4,
 "nbformat_minor": 4
}